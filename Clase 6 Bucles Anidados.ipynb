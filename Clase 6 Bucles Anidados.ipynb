{
  "cells": [
    {
      "cell_type": "markdown",
      "metadata": {
        "id": "view-in-github",
        "colab_type": "text"
      },
      "source": [
        "<a href=\"https://colab.research.google.com/github/Jwouji/ComputationalLogic/blob/main/Clase%206%20Bucles%20Anidados.ipynb\" target=\"_parent\"><img src=\"https://colab.research.google.com/assets/colab-badge.svg\" alt=\"Open In Colab\"/></a>"
      ]
    },
    {
      "cell_type": "markdown",
      "source": [
        "# Bucles anidados"
      ],
      "metadata": {
        "id": "jpDs_tdpJDs4"
      }
    },
    {
      "cell_type": "code",
      "source": [
        "breads = ['Integral', 'Derivado', 'Blancos', 'Baggete'];\n",
        "meats = ['Salchichas', 'Pollo', 'Cerdo', 'Res'];\n",
        "vegis = ['Lechuga', 'Tomate', 'Cebolla', 'Pepino'];\n",
        "sauces = ['Mayonesa', 'Miel mostaza', 'De ajo', 'De tomate'];\n",
        "\n",
        "print('Posibles Combinaciones de sandwich');\n",
        "\n",
        "for b in breads:\n",
        "    for m in meats:\n",
        "        for v in vegis:\n",
        "            for s in sauces:\n",
        "                print('Pan tipo: ' + b +\n",
        "                      ' + Carne tipo: ' + m +\n",
        "                      ' + Vegetal: ' + v + ' + salsa: ' + s);"
      ],
      "metadata": {
        "colab": {
          "base_uri": "https://localhost:8080/"
        },
        "id": "CODewdNuJGak",
        "outputId": "d8e6a5b3-6785-474d-cbdc-094e39bd2c05"
      },
      "execution_count": null,
      "outputs": [
        {
          "output_type": "stream",
          "name": "stdout",
          "text": [
            "Posibles Combinaciones de sandwich\n",
            "Pan tipo: Integral + Carne tipo: Salchichas + Vegetal: Lechuga + salsa: Mayonesa\n",
            "Pan tipo: Integral + Carne tipo: Salchichas + Vegetal: Lechuga + salsa: Miel mostaza\n",
            "Pan tipo: Integral + Carne tipo: Salchichas + Vegetal: Lechuga + salsa: De ajo\n",
            "Pan tipo: Integral + Carne tipo: Salchichas + Vegetal: Lechuga + salsa: De tomate\n",
            "Pan tipo: Integral + Carne tipo: Salchichas + Vegetal: Tomate + salsa: Mayonesa\n",
            "Pan tipo: Integral + Carne tipo: Salchichas + Vegetal: Tomate + salsa: Miel mostaza\n",
            "Pan tipo: Integral + Carne tipo: Salchichas + Vegetal: Tomate + salsa: De ajo\n",
            "Pan tipo: Integral + Carne tipo: Salchichas + Vegetal: Tomate + salsa: De tomate\n",
            "Pan tipo: Integral + Carne tipo: Salchichas + Vegetal: Cebolla + salsa: Mayonesa\n",
            "Pan tipo: Integral + Carne tipo: Salchichas + Vegetal: Cebolla + salsa: Miel mostaza\n",
            "Pan tipo: Integral + Carne tipo: Salchichas + Vegetal: Cebolla + salsa: De ajo\n",
            "Pan tipo: Integral + Carne tipo: Salchichas + Vegetal: Cebolla + salsa: De tomate\n",
            "Pan tipo: Integral + Carne tipo: Salchichas + Vegetal: Pepino + salsa: Mayonesa\n",
            "Pan tipo: Integral + Carne tipo: Salchichas + Vegetal: Pepino + salsa: Miel mostaza\n",
            "Pan tipo: Integral + Carne tipo: Salchichas + Vegetal: Pepino + salsa: De ajo\n",
            "Pan tipo: Integral + Carne tipo: Salchichas + Vegetal: Pepino + salsa: De tomate\n",
            "Pan tipo: Integral + Carne tipo: Pollo + Vegetal: Lechuga + salsa: Mayonesa\n",
            "Pan tipo: Integral + Carne tipo: Pollo + Vegetal: Lechuga + salsa: Miel mostaza\n",
            "Pan tipo: Integral + Carne tipo: Pollo + Vegetal: Lechuga + salsa: De ajo\n",
            "Pan tipo: Integral + Carne tipo: Pollo + Vegetal: Lechuga + salsa: De tomate\n",
            "Pan tipo: Integral + Carne tipo: Pollo + Vegetal: Tomate + salsa: Mayonesa\n",
            "Pan tipo: Integral + Carne tipo: Pollo + Vegetal: Tomate + salsa: Miel mostaza\n",
            "Pan tipo: Integral + Carne tipo: Pollo + Vegetal: Tomate + salsa: De ajo\n",
            "Pan tipo: Integral + Carne tipo: Pollo + Vegetal: Tomate + salsa: De tomate\n",
            "Pan tipo: Integral + Carne tipo: Pollo + Vegetal: Cebolla + salsa: Mayonesa\n",
            "Pan tipo: Integral + Carne tipo: Pollo + Vegetal: Cebolla + salsa: Miel mostaza\n",
            "Pan tipo: Integral + Carne tipo: Pollo + Vegetal: Cebolla + salsa: De ajo\n",
            "Pan tipo: Integral + Carne tipo: Pollo + Vegetal: Cebolla + salsa: De tomate\n",
            "Pan tipo: Integral + Carne tipo: Pollo + Vegetal: Pepino + salsa: Mayonesa\n",
            "Pan tipo: Integral + Carne tipo: Pollo + Vegetal: Pepino + salsa: Miel mostaza\n",
            "Pan tipo: Integral + Carne tipo: Pollo + Vegetal: Pepino + salsa: De ajo\n",
            "Pan tipo: Integral + Carne tipo: Pollo + Vegetal: Pepino + salsa: De tomate\n",
            "Pan tipo: Integral + Carne tipo: Cerdo + Vegetal: Lechuga + salsa: Mayonesa\n",
            "Pan tipo: Integral + Carne tipo: Cerdo + Vegetal: Lechuga + salsa: Miel mostaza\n",
            "Pan tipo: Integral + Carne tipo: Cerdo + Vegetal: Lechuga + salsa: De ajo\n",
            "Pan tipo: Integral + Carne tipo: Cerdo + Vegetal: Lechuga + salsa: De tomate\n",
            "Pan tipo: Integral + Carne tipo: Cerdo + Vegetal: Tomate + salsa: Mayonesa\n",
            "Pan tipo: Integral + Carne tipo: Cerdo + Vegetal: Tomate + salsa: Miel mostaza\n",
            "Pan tipo: Integral + Carne tipo: Cerdo + Vegetal: Tomate + salsa: De ajo\n",
            "Pan tipo: Integral + Carne tipo: Cerdo + Vegetal: Tomate + salsa: De tomate\n",
            "Pan tipo: Integral + Carne tipo: Cerdo + Vegetal: Cebolla + salsa: Mayonesa\n",
            "Pan tipo: Integral + Carne tipo: Cerdo + Vegetal: Cebolla + salsa: Miel mostaza\n",
            "Pan tipo: Integral + Carne tipo: Cerdo + Vegetal: Cebolla + salsa: De ajo\n",
            "Pan tipo: Integral + Carne tipo: Cerdo + Vegetal: Cebolla + salsa: De tomate\n",
            "Pan tipo: Integral + Carne tipo: Cerdo + Vegetal: Pepino + salsa: Mayonesa\n",
            "Pan tipo: Integral + Carne tipo: Cerdo + Vegetal: Pepino + salsa: Miel mostaza\n",
            "Pan tipo: Integral + Carne tipo: Cerdo + Vegetal: Pepino + salsa: De ajo\n",
            "Pan tipo: Integral + Carne tipo: Cerdo + Vegetal: Pepino + salsa: De tomate\n",
            "Pan tipo: Integral + Carne tipo: Res + Vegetal: Lechuga + salsa: Mayonesa\n",
            "Pan tipo: Integral + Carne tipo: Res + Vegetal: Lechuga + salsa: Miel mostaza\n",
            "Pan tipo: Integral + Carne tipo: Res + Vegetal: Lechuga + salsa: De ajo\n",
            "Pan tipo: Integral + Carne tipo: Res + Vegetal: Lechuga + salsa: De tomate\n",
            "Pan tipo: Integral + Carne tipo: Res + Vegetal: Tomate + salsa: Mayonesa\n",
            "Pan tipo: Integral + Carne tipo: Res + Vegetal: Tomate + salsa: Miel mostaza\n",
            "Pan tipo: Integral + Carne tipo: Res + Vegetal: Tomate + salsa: De ajo\n",
            "Pan tipo: Integral + Carne tipo: Res + Vegetal: Tomate + salsa: De tomate\n",
            "Pan tipo: Integral + Carne tipo: Res + Vegetal: Cebolla + salsa: Mayonesa\n",
            "Pan tipo: Integral + Carne tipo: Res + Vegetal: Cebolla + salsa: Miel mostaza\n",
            "Pan tipo: Integral + Carne tipo: Res + Vegetal: Cebolla + salsa: De ajo\n",
            "Pan tipo: Integral + Carne tipo: Res + Vegetal: Cebolla + salsa: De tomate\n",
            "Pan tipo: Integral + Carne tipo: Res + Vegetal: Pepino + salsa: Mayonesa\n",
            "Pan tipo: Integral + Carne tipo: Res + Vegetal: Pepino + salsa: Miel mostaza\n",
            "Pan tipo: Integral + Carne tipo: Res + Vegetal: Pepino + salsa: De ajo\n",
            "Pan tipo: Integral + Carne tipo: Res + Vegetal: Pepino + salsa: De tomate\n",
            "Pan tipo: Derivado + Carne tipo: Salchichas + Vegetal: Lechuga + salsa: Mayonesa\n",
            "Pan tipo: Derivado + Carne tipo: Salchichas + Vegetal: Lechuga + salsa: Miel mostaza\n",
            "Pan tipo: Derivado + Carne tipo: Salchichas + Vegetal: Lechuga + salsa: De ajo\n",
            "Pan tipo: Derivado + Carne tipo: Salchichas + Vegetal: Lechuga + salsa: De tomate\n",
            "Pan tipo: Derivado + Carne tipo: Salchichas + Vegetal: Tomate + salsa: Mayonesa\n",
            "Pan tipo: Derivado + Carne tipo: Salchichas + Vegetal: Tomate + salsa: Miel mostaza\n",
            "Pan tipo: Derivado + Carne tipo: Salchichas + Vegetal: Tomate + salsa: De ajo\n",
            "Pan tipo: Derivado + Carne tipo: Salchichas + Vegetal: Tomate + salsa: De tomate\n",
            "Pan tipo: Derivado + Carne tipo: Salchichas + Vegetal: Cebolla + salsa: Mayonesa\n",
            "Pan tipo: Derivado + Carne tipo: Salchichas + Vegetal: Cebolla + salsa: Miel mostaza\n",
            "Pan tipo: Derivado + Carne tipo: Salchichas + Vegetal: Cebolla + salsa: De ajo\n",
            "Pan tipo: Derivado + Carne tipo: Salchichas + Vegetal: Cebolla + salsa: De tomate\n",
            "Pan tipo: Derivado + Carne tipo: Salchichas + Vegetal: Pepino + salsa: Mayonesa\n",
            "Pan tipo: Derivado + Carne tipo: Salchichas + Vegetal: Pepino + salsa: Miel mostaza\n",
            "Pan tipo: Derivado + Carne tipo: Salchichas + Vegetal: Pepino + salsa: De ajo\n",
            "Pan tipo: Derivado + Carne tipo: Salchichas + Vegetal: Pepino + salsa: De tomate\n",
            "Pan tipo: Derivado + Carne tipo: Pollo + Vegetal: Lechuga + salsa: Mayonesa\n",
            "Pan tipo: Derivado + Carne tipo: Pollo + Vegetal: Lechuga + salsa: Miel mostaza\n",
            "Pan tipo: Derivado + Carne tipo: Pollo + Vegetal: Lechuga + salsa: De ajo\n",
            "Pan tipo: Derivado + Carne tipo: Pollo + Vegetal: Lechuga + salsa: De tomate\n",
            "Pan tipo: Derivado + Carne tipo: Pollo + Vegetal: Tomate + salsa: Mayonesa\n",
            "Pan tipo: Derivado + Carne tipo: Pollo + Vegetal: Tomate + salsa: Miel mostaza\n",
            "Pan tipo: Derivado + Carne tipo: Pollo + Vegetal: Tomate + salsa: De ajo\n",
            "Pan tipo: Derivado + Carne tipo: Pollo + Vegetal: Tomate + salsa: De tomate\n",
            "Pan tipo: Derivado + Carne tipo: Pollo + Vegetal: Cebolla + salsa: Mayonesa\n",
            "Pan tipo: Derivado + Carne tipo: Pollo + Vegetal: Cebolla + salsa: Miel mostaza\n",
            "Pan tipo: Derivado + Carne tipo: Pollo + Vegetal: Cebolla + salsa: De ajo\n",
            "Pan tipo: Derivado + Carne tipo: Pollo + Vegetal: Cebolla + salsa: De tomate\n",
            "Pan tipo: Derivado + Carne tipo: Pollo + Vegetal: Pepino + salsa: Mayonesa\n",
            "Pan tipo: Derivado + Carne tipo: Pollo + Vegetal: Pepino + salsa: Miel mostaza\n",
            "Pan tipo: Derivado + Carne tipo: Pollo + Vegetal: Pepino + salsa: De ajo\n",
            "Pan tipo: Derivado + Carne tipo: Pollo + Vegetal: Pepino + salsa: De tomate\n",
            "Pan tipo: Derivado + Carne tipo: Cerdo + Vegetal: Lechuga + salsa: Mayonesa\n",
            "Pan tipo: Derivado + Carne tipo: Cerdo + Vegetal: Lechuga + salsa: Miel mostaza\n",
            "Pan tipo: Derivado + Carne tipo: Cerdo + Vegetal: Lechuga + salsa: De ajo\n",
            "Pan tipo: Derivado + Carne tipo: Cerdo + Vegetal: Lechuga + salsa: De tomate\n",
            "Pan tipo: Derivado + Carne tipo: Cerdo + Vegetal: Tomate + salsa: Mayonesa\n",
            "Pan tipo: Derivado + Carne tipo: Cerdo + Vegetal: Tomate + salsa: Miel mostaza\n",
            "Pan tipo: Derivado + Carne tipo: Cerdo + Vegetal: Tomate + salsa: De ajo\n",
            "Pan tipo: Derivado + Carne tipo: Cerdo + Vegetal: Tomate + salsa: De tomate\n",
            "Pan tipo: Derivado + Carne tipo: Cerdo + Vegetal: Cebolla + salsa: Mayonesa\n",
            "Pan tipo: Derivado + Carne tipo: Cerdo + Vegetal: Cebolla + salsa: Miel mostaza\n",
            "Pan tipo: Derivado + Carne tipo: Cerdo + Vegetal: Cebolla + salsa: De ajo\n",
            "Pan tipo: Derivado + Carne tipo: Cerdo + Vegetal: Cebolla + salsa: De tomate\n",
            "Pan tipo: Derivado + Carne tipo: Cerdo + Vegetal: Pepino + salsa: Mayonesa\n",
            "Pan tipo: Derivado + Carne tipo: Cerdo + Vegetal: Pepino + salsa: Miel mostaza\n",
            "Pan tipo: Derivado + Carne tipo: Cerdo + Vegetal: Pepino + salsa: De ajo\n",
            "Pan tipo: Derivado + Carne tipo: Cerdo + Vegetal: Pepino + salsa: De tomate\n",
            "Pan tipo: Derivado + Carne tipo: Res + Vegetal: Lechuga + salsa: Mayonesa\n",
            "Pan tipo: Derivado + Carne tipo: Res + Vegetal: Lechuga + salsa: Miel mostaza\n",
            "Pan tipo: Derivado + Carne tipo: Res + Vegetal: Lechuga + salsa: De ajo\n",
            "Pan tipo: Derivado + Carne tipo: Res + Vegetal: Lechuga + salsa: De tomate\n",
            "Pan tipo: Derivado + Carne tipo: Res + Vegetal: Tomate + salsa: Mayonesa\n",
            "Pan tipo: Derivado + Carne tipo: Res + Vegetal: Tomate + salsa: Miel mostaza\n",
            "Pan tipo: Derivado + Carne tipo: Res + Vegetal: Tomate + salsa: De ajo\n",
            "Pan tipo: Derivado + Carne tipo: Res + Vegetal: Tomate + salsa: De tomate\n",
            "Pan tipo: Derivado + Carne tipo: Res + Vegetal: Cebolla + salsa: Mayonesa\n",
            "Pan tipo: Derivado + Carne tipo: Res + Vegetal: Cebolla + salsa: Miel mostaza\n",
            "Pan tipo: Derivado + Carne tipo: Res + Vegetal: Cebolla + salsa: De ajo\n",
            "Pan tipo: Derivado + Carne tipo: Res + Vegetal: Cebolla + salsa: De tomate\n",
            "Pan tipo: Derivado + Carne tipo: Res + Vegetal: Pepino + salsa: Mayonesa\n",
            "Pan tipo: Derivado + Carne tipo: Res + Vegetal: Pepino + salsa: Miel mostaza\n",
            "Pan tipo: Derivado + Carne tipo: Res + Vegetal: Pepino + salsa: De ajo\n",
            "Pan tipo: Derivado + Carne tipo: Res + Vegetal: Pepino + salsa: De tomate\n",
            "Pan tipo: Blancos + Carne tipo: Salchichas + Vegetal: Lechuga + salsa: Mayonesa\n",
            "Pan tipo: Blancos + Carne tipo: Salchichas + Vegetal: Lechuga + salsa: Miel mostaza\n",
            "Pan tipo: Blancos + Carne tipo: Salchichas + Vegetal: Lechuga + salsa: De ajo\n",
            "Pan tipo: Blancos + Carne tipo: Salchichas + Vegetal: Lechuga + salsa: De tomate\n",
            "Pan tipo: Blancos + Carne tipo: Salchichas + Vegetal: Tomate + salsa: Mayonesa\n",
            "Pan tipo: Blancos + Carne tipo: Salchichas + Vegetal: Tomate + salsa: Miel mostaza\n",
            "Pan tipo: Blancos + Carne tipo: Salchichas + Vegetal: Tomate + salsa: De ajo\n",
            "Pan tipo: Blancos + Carne tipo: Salchichas + Vegetal: Tomate + salsa: De tomate\n",
            "Pan tipo: Blancos + Carne tipo: Salchichas + Vegetal: Cebolla + salsa: Mayonesa\n",
            "Pan tipo: Blancos + Carne tipo: Salchichas + Vegetal: Cebolla + salsa: Miel mostaza\n",
            "Pan tipo: Blancos + Carne tipo: Salchichas + Vegetal: Cebolla + salsa: De ajo\n",
            "Pan tipo: Blancos + Carne tipo: Salchichas + Vegetal: Cebolla + salsa: De tomate\n",
            "Pan tipo: Blancos + Carne tipo: Salchichas + Vegetal: Pepino + salsa: Mayonesa\n",
            "Pan tipo: Blancos + Carne tipo: Salchichas + Vegetal: Pepino + salsa: Miel mostaza\n",
            "Pan tipo: Blancos + Carne tipo: Salchichas + Vegetal: Pepino + salsa: De ajo\n",
            "Pan tipo: Blancos + Carne tipo: Salchichas + Vegetal: Pepino + salsa: De tomate\n",
            "Pan tipo: Blancos + Carne tipo: Pollo + Vegetal: Lechuga + salsa: Mayonesa\n",
            "Pan tipo: Blancos + Carne tipo: Pollo + Vegetal: Lechuga + salsa: Miel mostaza\n",
            "Pan tipo: Blancos + Carne tipo: Pollo + Vegetal: Lechuga + salsa: De ajo\n",
            "Pan tipo: Blancos + Carne tipo: Pollo + Vegetal: Lechuga + salsa: De tomate\n",
            "Pan tipo: Blancos + Carne tipo: Pollo + Vegetal: Tomate + salsa: Mayonesa\n",
            "Pan tipo: Blancos + Carne tipo: Pollo + Vegetal: Tomate + salsa: Miel mostaza\n",
            "Pan tipo: Blancos + Carne tipo: Pollo + Vegetal: Tomate + salsa: De ajo\n",
            "Pan tipo: Blancos + Carne tipo: Pollo + Vegetal: Tomate + salsa: De tomate\n",
            "Pan tipo: Blancos + Carne tipo: Pollo + Vegetal: Cebolla + salsa: Mayonesa\n",
            "Pan tipo: Blancos + Carne tipo: Pollo + Vegetal: Cebolla + salsa: Miel mostaza\n",
            "Pan tipo: Blancos + Carne tipo: Pollo + Vegetal: Cebolla + salsa: De ajo\n",
            "Pan tipo: Blancos + Carne tipo: Pollo + Vegetal: Cebolla + salsa: De tomate\n",
            "Pan tipo: Blancos + Carne tipo: Pollo + Vegetal: Pepino + salsa: Mayonesa\n",
            "Pan tipo: Blancos + Carne tipo: Pollo + Vegetal: Pepino + salsa: Miel mostaza\n",
            "Pan tipo: Blancos + Carne tipo: Pollo + Vegetal: Pepino + salsa: De ajo\n",
            "Pan tipo: Blancos + Carne tipo: Pollo + Vegetal: Pepino + salsa: De tomate\n",
            "Pan tipo: Blancos + Carne tipo: Cerdo + Vegetal: Lechuga + salsa: Mayonesa\n",
            "Pan tipo: Blancos + Carne tipo: Cerdo + Vegetal: Lechuga + salsa: Miel mostaza\n",
            "Pan tipo: Blancos + Carne tipo: Cerdo + Vegetal: Lechuga + salsa: De ajo\n",
            "Pan tipo: Blancos + Carne tipo: Cerdo + Vegetal: Lechuga + salsa: De tomate\n",
            "Pan tipo: Blancos + Carne tipo: Cerdo + Vegetal: Tomate + salsa: Mayonesa\n",
            "Pan tipo: Blancos + Carne tipo: Cerdo + Vegetal: Tomate + salsa: Miel mostaza\n",
            "Pan tipo: Blancos + Carne tipo: Cerdo + Vegetal: Tomate + salsa: De ajo\n",
            "Pan tipo: Blancos + Carne tipo: Cerdo + Vegetal: Tomate + salsa: De tomate\n",
            "Pan tipo: Blancos + Carne tipo: Cerdo + Vegetal: Cebolla + salsa: Mayonesa\n",
            "Pan tipo: Blancos + Carne tipo: Cerdo + Vegetal: Cebolla + salsa: Miel mostaza\n",
            "Pan tipo: Blancos + Carne tipo: Cerdo + Vegetal: Cebolla + salsa: De ajo\n",
            "Pan tipo: Blancos + Carne tipo: Cerdo + Vegetal: Cebolla + salsa: De tomate\n",
            "Pan tipo: Blancos + Carne tipo: Cerdo + Vegetal: Pepino + salsa: Mayonesa\n",
            "Pan tipo: Blancos + Carne tipo: Cerdo + Vegetal: Pepino + salsa: Miel mostaza\n",
            "Pan tipo: Blancos + Carne tipo: Cerdo + Vegetal: Pepino + salsa: De ajo\n",
            "Pan tipo: Blancos + Carne tipo: Cerdo + Vegetal: Pepino + salsa: De tomate\n",
            "Pan tipo: Blancos + Carne tipo: Res + Vegetal: Lechuga + salsa: Mayonesa\n",
            "Pan tipo: Blancos + Carne tipo: Res + Vegetal: Lechuga + salsa: Miel mostaza\n",
            "Pan tipo: Blancos + Carne tipo: Res + Vegetal: Lechuga + salsa: De ajo\n",
            "Pan tipo: Blancos + Carne tipo: Res + Vegetal: Lechuga + salsa: De tomate\n",
            "Pan tipo: Blancos + Carne tipo: Res + Vegetal: Tomate + salsa: Mayonesa\n",
            "Pan tipo: Blancos + Carne tipo: Res + Vegetal: Tomate + salsa: Miel mostaza\n",
            "Pan tipo: Blancos + Carne tipo: Res + Vegetal: Tomate + salsa: De ajo\n",
            "Pan tipo: Blancos + Carne tipo: Res + Vegetal: Tomate + salsa: De tomate\n",
            "Pan tipo: Blancos + Carne tipo: Res + Vegetal: Cebolla + salsa: Mayonesa\n",
            "Pan tipo: Blancos + Carne tipo: Res + Vegetal: Cebolla + salsa: Miel mostaza\n",
            "Pan tipo: Blancos + Carne tipo: Res + Vegetal: Cebolla + salsa: De ajo\n",
            "Pan tipo: Blancos + Carne tipo: Res + Vegetal: Cebolla + salsa: De tomate\n",
            "Pan tipo: Blancos + Carne tipo: Res + Vegetal: Pepino + salsa: Mayonesa\n",
            "Pan tipo: Blancos + Carne tipo: Res + Vegetal: Pepino + salsa: Miel mostaza\n",
            "Pan tipo: Blancos + Carne tipo: Res + Vegetal: Pepino + salsa: De ajo\n",
            "Pan tipo: Blancos + Carne tipo: Res + Vegetal: Pepino + salsa: De tomate\n",
            "Pan tipo: Baggete + Carne tipo: Salchichas + Vegetal: Lechuga + salsa: Mayonesa\n",
            "Pan tipo: Baggete + Carne tipo: Salchichas + Vegetal: Lechuga + salsa: Miel mostaza\n",
            "Pan tipo: Baggete + Carne tipo: Salchichas + Vegetal: Lechuga + salsa: De ajo\n",
            "Pan tipo: Baggete + Carne tipo: Salchichas + Vegetal: Lechuga + salsa: De tomate\n",
            "Pan tipo: Baggete + Carne tipo: Salchichas + Vegetal: Tomate + salsa: Mayonesa\n",
            "Pan tipo: Baggete + Carne tipo: Salchichas + Vegetal: Tomate + salsa: Miel mostaza\n",
            "Pan tipo: Baggete + Carne tipo: Salchichas + Vegetal: Tomate + salsa: De ajo\n",
            "Pan tipo: Baggete + Carne tipo: Salchichas + Vegetal: Tomate + salsa: De tomate\n",
            "Pan tipo: Baggete + Carne tipo: Salchichas + Vegetal: Cebolla + salsa: Mayonesa\n",
            "Pan tipo: Baggete + Carne tipo: Salchichas + Vegetal: Cebolla + salsa: Miel mostaza\n",
            "Pan tipo: Baggete + Carne tipo: Salchichas + Vegetal: Cebolla + salsa: De ajo\n",
            "Pan tipo: Baggete + Carne tipo: Salchichas + Vegetal: Cebolla + salsa: De tomate\n",
            "Pan tipo: Baggete + Carne tipo: Salchichas + Vegetal: Pepino + salsa: Mayonesa\n",
            "Pan tipo: Baggete + Carne tipo: Salchichas + Vegetal: Pepino + salsa: Miel mostaza\n",
            "Pan tipo: Baggete + Carne tipo: Salchichas + Vegetal: Pepino + salsa: De ajo\n",
            "Pan tipo: Baggete + Carne tipo: Salchichas + Vegetal: Pepino + salsa: De tomate\n",
            "Pan tipo: Baggete + Carne tipo: Pollo + Vegetal: Lechuga + salsa: Mayonesa\n",
            "Pan tipo: Baggete + Carne tipo: Pollo + Vegetal: Lechuga + salsa: Miel mostaza\n",
            "Pan tipo: Baggete + Carne tipo: Pollo + Vegetal: Lechuga + salsa: De ajo\n",
            "Pan tipo: Baggete + Carne tipo: Pollo + Vegetal: Lechuga + salsa: De tomate\n",
            "Pan tipo: Baggete + Carne tipo: Pollo + Vegetal: Tomate + salsa: Mayonesa\n",
            "Pan tipo: Baggete + Carne tipo: Pollo + Vegetal: Tomate + salsa: Miel mostaza\n",
            "Pan tipo: Baggete + Carne tipo: Pollo + Vegetal: Tomate + salsa: De ajo\n",
            "Pan tipo: Baggete + Carne tipo: Pollo + Vegetal: Tomate + salsa: De tomate\n",
            "Pan tipo: Baggete + Carne tipo: Pollo + Vegetal: Cebolla + salsa: Mayonesa\n",
            "Pan tipo: Baggete + Carne tipo: Pollo + Vegetal: Cebolla + salsa: Miel mostaza\n",
            "Pan tipo: Baggete + Carne tipo: Pollo + Vegetal: Cebolla + salsa: De ajo\n",
            "Pan tipo: Baggete + Carne tipo: Pollo + Vegetal: Cebolla + salsa: De tomate\n",
            "Pan tipo: Baggete + Carne tipo: Pollo + Vegetal: Pepino + salsa: Mayonesa\n",
            "Pan tipo: Baggete + Carne tipo: Pollo + Vegetal: Pepino + salsa: Miel mostaza\n",
            "Pan tipo: Baggete + Carne tipo: Pollo + Vegetal: Pepino + salsa: De ajo\n",
            "Pan tipo: Baggete + Carne tipo: Pollo + Vegetal: Pepino + salsa: De tomate\n",
            "Pan tipo: Baggete + Carne tipo: Cerdo + Vegetal: Lechuga + salsa: Mayonesa\n",
            "Pan tipo: Baggete + Carne tipo: Cerdo + Vegetal: Lechuga + salsa: Miel mostaza\n",
            "Pan tipo: Baggete + Carne tipo: Cerdo + Vegetal: Lechuga + salsa: De ajo\n",
            "Pan tipo: Baggete + Carne tipo: Cerdo + Vegetal: Lechuga + salsa: De tomate\n",
            "Pan tipo: Baggete + Carne tipo: Cerdo + Vegetal: Tomate + salsa: Mayonesa\n",
            "Pan tipo: Baggete + Carne tipo: Cerdo + Vegetal: Tomate + salsa: Miel mostaza\n",
            "Pan tipo: Baggete + Carne tipo: Cerdo + Vegetal: Tomate + salsa: De ajo\n",
            "Pan tipo: Baggete + Carne tipo: Cerdo + Vegetal: Tomate + salsa: De tomate\n",
            "Pan tipo: Baggete + Carne tipo: Cerdo + Vegetal: Cebolla + salsa: Mayonesa\n",
            "Pan tipo: Baggete + Carne tipo: Cerdo + Vegetal: Cebolla + salsa: Miel mostaza\n",
            "Pan tipo: Baggete + Carne tipo: Cerdo + Vegetal: Cebolla + salsa: De ajo\n",
            "Pan tipo: Baggete + Carne tipo: Cerdo + Vegetal: Cebolla + salsa: De tomate\n",
            "Pan tipo: Baggete + Carne tipo: Cerdo + Vegetal: Pepino + salsa: Mayonesa\n",
            "Pan tipo: Baggete + Carne tipo: Cerdo + Vegetal: Pepino + salsa: Miel mostaza\n",
            "Pan tipo: Baggete + Carne tipo: Cerdo + Vegetal: Pepino + salsa: De ajo\n",
            "Pan tipo: Baggete + Carne tipo: Cerdo + Vegetal: Pepino + salsa: De tomate\n",
            "Pan tipo: Baggete + Carne tipo: Res + Vegetal: Lechuga + salsa: Mayonesa\n",
            "Pan tipo: Baggete + Carne tipo: Res + Vegetal: Lechuga + salsa: Miel mostaza\n",
            "Pan tipo: Baggete + Carne tipo: Res + Vegetal: Lechuga + salsa: De ajo\n",
            "Pan tipo: Baggete + Carne tipo: Res + Vegetal: Lechuga + salsa: De tomate\n",
            "Pan tipo: Baggete + Carne tipo: Res + Vegetal: Tomate + salsa: Mayonesa\n",
            "Pan tipo: Baggete + Carne tipo: Res + Vegetal: Tomate + salsa: Miel mostaza\n",
            "Pan tipo: Baggete + Carne tipo: Res + Vegetal: Tomate + salsa: De ajo\n",
            "Pan tipo: Baggete + Carne tipo: Res + Vegetal: Tomate + salsa: De tomate\n",
            "Pan tipo: Baggete + Carne tipo: Res + Vegetal: Cebolla + salsa: Mayonesa\n",
            "Pan tipo: Baggete + Carne tipo: Res + Vegetal: Cebolla + salsa: Miel mostaza\n",
            "Pan tipo: Baggete + Carne tipo: Res + Vegetal: Cebolla + salsa: De ajo\n",
            "Pan tipo: Baggete + Carne tipo: Res + Vegetal: Cebolla + salsa: De tomate\n",
            "Pan tipo: Baggete + Carne tipo: Res + Vegetal: Pepino + salsa: Mayonesa\n",
            "Pan tipo: Baggete + Carne tipo: Res + Vegetal: Pepino + salsa: Miel mostaza\n",
            "Pan tipo: Baggete + Carne tipo: Res + Vegetal: Pepino + salsa: De ajo\n",
            "Pan tipo: Baggete + Carne tipo: Res + Vegetal: Pepino + salsa: De tomate\n"
          ]
        }
      ]
    },
    {
      "cell_type": "code",
      "source": [
        "for i in range(30):\n",
        "  print('Este es mi parcial');"
      ],
      "metadata": {
        "colab": {
          "base_uri": "https://localhost:8080/"
        },
        "id": "F04BjD7MSjsJ",
        "outputId": "1f2f65e8-98cd-4660-b79e-f3834a1cd980"
      },
      "execution_count": null,
      "outputs": [
        {
          "output_type": "stream",
          "name": "stdout",
          "text": [
            "Este es mi parcial\n",
            "Este es mi parcial\n",
            "Este es mi parcial\n",
            "Este es mi parcial\n",
            "Este es mi parcial\n",
            "Este es mi parcial\n",
            "Este es mi parcial\n",
            "Este es mi parcial\n",
            "Este es mi parcial\n",
            "Este es mi parcial\n",
            "Este es mi parcial\n",
            "Este es mi parcial\n",
            "Este es mi parcial\n",
            "Este es mi parcial\n",
            "Este es mi parcial\n",
            "Este es mi parcial\n",
            "Este es mi parcial\n",
            "Este es mi parcial\n",
            "Este es mi parcial\n",
            "Este es mi parcial\n",
            "Este es mi parcial\n",
            "Este es mi parcial\n",
            "Este es mi parcial\n",
            "Este es mi parcial\n",
            "Este es mi parcial\n",
            "Este es mi parcial\n",
            "Este es mi parcial\n",
            "Este es mi parcial\n",
            "Este es mi parcial\n",
            "Este es mi parcial\n"
          ]
        }
      ]
    },
    {
      "cell_type": "code",
      "source": [
        "print(list(range(0, 10, 2)));"
      ],
      "metadata": {
        "colab": {
          "base_uri": "https://localhost:8080/"
        },
        "id": "PJ1BfurmTKpi",
        "outputId": "3b81a543-dc7d-4eb2-d776-8e1136d9b48c"
      },
      "execution_count": null,
      "outputs": [
        {
          "output_type": "stream",
          "name": "stdout",
          "text": [
            "[0, 2, 4, 6, 8]\n"
          ]
        }
      ]
    },
    {
      "cell_type": "code",
      "source": [
        "print(list(range(10, 0, -2)));"
      ],
      "metadata": {
        "colab": {
          "base_uri": "https://localhost:8080/"
        },
        "id": "S--giXZqTcfT",
        "outputId": "a54e80f8-eec4-45fb-ee2b-56480c0fea1a"
      },
      "execution_count": null,
      "outputs": [
        {
          "output_type": "stream",
          "name": "stdout",
          "text": [
            "[10, 8, 6, 4, 2]\n"
          ]
        }
      ]
    },
    {
      "cell_type": "code",
      "source": [
        "print(list(range(1, 20, 3)));"
      ],
      "metadata": {
        "colab": {
          "base_uri": "https://localhost:8080/"
        },
        "id": "ew3SJHNxThNj",
        "outputId": "a31cbeac-2718-4e90-d91d-c02a8a0c3257"
      },
      "execution_count": null,
      "outputs": [
        {
          "output_type": "stream",
          "name": "stdout",
          "text": [
            "[1, 4, 7, 10, 13, 16, 19]\n"
          ]
        }
      ]
    },
    {
      "cell_type": "code",
      "source": [
        "sum = 0\n",
        "\n",
        "for i in range(0, 101):\n",
        "  sum += i\n",
        "\n",
        "print(sum);"
      ],
      "metadata": {
        "colab": {
          "base_uri": "https://localhost:8080/"
        },
        "id": "zxqA6kBpTnaq",
        "outputId": "69e2fb89-cacb-45cf-ef32-f3627d24feac"
      },
      "execution_count": null,
      "outputs": [
        {
          "output_type": "stream",
          "name": "stdout",
          "text": [
            "5050\n"
          ]
        }
      ]
    },
    {
      "cell_type": "code",
      "source": [
        "print(sum(list(range(0, 101))));\n"
      ],
      "metadata": {
        "colab": {
          "base_uri": "https://localhost:8080/"
        },
        "id": "nYDqerplT68W",
        "outputId": "1d53d000-96dc-4c28-8c96-062b3908bb9d"
      },
      "execution_count": null,
      "outputs": [
        {
          "output_type": "stream",
          "name": "stdout",
          "text": [
            "5050\n"
          ]
        }
      ]
    },
    {
      "cell_type": "code",
      "source": [
        "def sum_gauss(n):\n",
        "  gauss = n * (n + 1) // 2\n",
        "  return gauss;\n",
        "\n",
        "n = 100\n",
        "result = (sum_gauss(n));\n",
        "print(f'la suma de los numeros del 1 al {n} es {result}');"
      ],
      "metadata": {
        "colab": {
          "base_uri": "https://localhost:8080/"
        },
        "id": "U19PoUVHVnJp",
        "outputId": "7b53bc37-55a9-40b4-b8e6-cb3d16e6eee0"
      },
      "execution_count": null,
      "outputs": [
        {
          "output_type": "stream",
          "name": "stdout",
          "text": [
            "la suma de los numeros del 1 al 100 es 5050\n"
          ]
        }
      ]
    }
  ],
  "metadata": {
    "colab": {
      "toc_visible": true,
      "provenance": [],
      "include_colab_link": true
    },
    "kernelspec": {
      "display_name": "Python 3",
      "name": "python3"
    }
  },
  "nbformat": 4,
  "nbformat_minor": 0
}