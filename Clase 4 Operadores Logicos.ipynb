{
  "cells": [
    {
      "cell_type": "markdown",
      "metadata": {
        "id": "view-in-github",
        "colab_type": "text"
      },
      "source": [
        "<a href=\"https://colab.research.google.com/github/Jwouji/ComputationalLogic/blob/main/Clase%206%20Operadores%20Logicos.ipynb\" target=\"_parent\"><img src=\"https://colab.research.google.com/assets/colab-badge.svg\" alt=\"Open In Colab\"/></a>"
      ]
    },
    {
      "cell_type": "markdown",
      "source": [],
      "metadata": {
        "id": "_BTmta7rXM7R"
      }
    },
    {
      "cell_type": "markdown",
      "source": [
        "# Operadores Logicos and (&&), or (||), not (!)"
      ],
      "metadata": {
        "id": "6_ybpu-zXdCx"
      }
    },
    {
      "cell_type": "code",
      "source": [
        "x = True;\n",
        "y = False;\n",
        "\n",
        "print(x and y);\n",
        "print(x or y);\n",
        "print(not x);\n",
        "print(not y);\n",
        "\n",
        "print('');\n",
        "\n",
        "print(not x and y);\n",
        "print(x or not y);"
      ],
      "metadata": {
        "id": "rbI9ivuRXXXg"
      },
      "execution_count": null,
      "outputs": []
    },
    {
      "cell_type": "code",
      "source": [
        "num = int(input('Digite um numero: '));\n",
        "result = (num >= 0 and num <= 100 and num % 2 == 0);\n",
        "print(\"¿El numero ingresado cumple con ser par y estar entre 0 y 100?\", result);"
      ],
      "metadata": {
        "id": "HviW-0RjYBTB"
      },
      "execution_count": null,
      "outputs": []
    },
    {
      "cell_type": "markdown",
      "source": [
        "## Para el caso del numero 99:\n",
        "\n",
        "- num es mayor a 0 pero menor que 100, por lo que la primera y segunda ecuacion devuelve True\n",
        "- En la tercera ecuacion, num tiene un residuo de 1, por que 1 == 0 se devuelve como False\n",
        "- el operador logico and devuelve True cuando todos los valores son True; por lo tanto, devuelve False\n",
        "\n",
        "tabla para el operador logico \"and\"\n",
        "\n",
        "|a|b|c|d|e|salida|\n",
        "|-|-|-|-|-|------|\n",
        "|0|0|0|0|0|0|\n",
        "|0|0|0|0|1|0|\n",
        "|0|0|0|1|1|0|\n",
        "|0|0|1|1|1|0|\n",
        "|0|1|1|1|1|0|\n",
        "|1|1|1|1|1|1|\n",
        "\n",
        "Hint: 0 es false, 1 es True\n",
        "\n",
        "\n",
        "Tabla de verdad para operador logico `or `\n",
        "\n",
        "|a|b|c|d|e|salida|\n",
        "|-|-|-|-|-|------|\n",
        "|0|0|0|0|0|0|\n",
        "|0|0|0|0|1|1|\n",
        "|0|0|0|1|1|1|\n",
        "|0|0|1|1|1|1|\n",
        "|0|1|1|1|1|1|\n",
        "|1|1|1|1|1|1|\n",
        "\n",
        "\n",
        "Hint: 0 es false, 1 es True\n",
        "\n",
        "# operador not\n",
        "\n",
        "|a|not a|\n",
        "|-|-|\n",
        "|0|1|\n",
        "|1|0|\n",
        "    \n",
        "\n",
        "|a|b|not (a and b)|\n",
        "|-|-|-|\n",
        "|0|0|1|\n",
        "|1|1|0|\n",
        "\n",
        "|a|b|not ( a or b)\n",
        "|-|-|-|\n",
        "|0|1|0|\n",
        "|1|0|0|"
      ],
      "metadata": {
        "id": "MSYZYJTaYFXR"
      }
    },
    {
      "cell_type": "markdown",
      "source": [
        "## Ejercicio - Taller\n",
        "\n",
        "vamos a crear la simulacion a baja escala de una loteria deber seguir los siguientes pasos\n",
        "\n",
        "recibir 3 numeros del usuario\n",
        "\n",
        "definir (amañar) los numeros ganadores de la loteria (abc)\n",
        "\n",
        "si el numero del usuario coincide totalmente con los numeros de la loteria, gana el premio mayor (imprime un mensaje) -> usuario ingresa 123 y la loteria es 123, gana premio mayor\n",
        "\n",
        "si el numero coincide en desorden con el de la loteria, gana el segundo premio (imprimir un mensaje) -> gana segundo premio\n",
        "\n",
        "a partir del numero de aciertos ( sin importar el orden) los premios seran repartidos dos acierdos reciden tercer premio, 1 acierto recibe premio consolacion, 0 aciertos perdio la plata\n"
      ],
      "metadata": {
        "id": "VVqlmSscYMRQ"
      }
    },
    {
      "cell_type": "code",
      "source": [
        "a = int(input('Ingrese un numero: '));\n",
        "b = int(input('Ingrese otro numero: '));\n",
        "c = int(input('Ingrese otro numero: '));\n",
        "loteria = [4,1,6];\n",
        "\n",
        "if a == loteria[0] and b == loteria[1] and c == loteria[2]:\n",
        "  print(\"La loteria es 416, Gana premio mayor\");\n",
        "elif (a and b and c == loteria[0] and loteria[1] and loteria[2]) and (a != b and a != c and c != b):\n",
        "  print('Gana segundo premio')\n",
        "elif (a and b in loteria) or (a and c in loteria) or ( c and b in loteria):\n",
        "  print('Gana tercer premio')\n",
        "elif ((a and b and c not in loteria)):\n",
        "  print(\"perdiste\");\n",
        "else:\n",
        "  print(\"Ganaste premio consolacion\");"
      ],
      "metadata": {
        "colab": {
          "base_uri": "https://localhost:8080/"
        },
        "id": "2zFw88t2YQdI",
        "outputId": "236153b9-86cc-4a29-bd8a-ae3a5c9cb575"
      },
      "execution_count": 13,
      "outputs": [
        {
          "output_type": "stream",
          "name": "stdout",
          "text": [
            "Ingrese un numero: 4\n",
            "Ingrese otro numero: 1\n",
            "Ingrese otro numero: 6\n",
            "La loteria es 416, Gana premio mayor\n"
          ]
        }
      ]
    },
    {
      "cell_type": "markdown",
      "source": [
        "## otra solución"
      ],
      "metadata": {
        "id": "7fjU-bShn7Zw"
      }
    },
    {
      "cell_type": "code",
      "source": [
        "numero_ganador = 123\n",
        "numero_usuario = int(input('Ingresa un número de tres digitos'))\n",
        "\n",
        "ganador = str(numero_ganador)\n",
        "usuario = str(numero_usuario)\n",
        "\n",
        "g1, g2, g3 = ganador[0], ganador[1], ganador[2]\n",
        "u1, u2, u3 = usuario[0], usuario[1], usuario[2]\n",
        "\n",
        "if usuario == ganador:\n",
        "  print('Ganador')\n",
        "else:\n",
        "  if(\n",
        "      (u1  in ganador and u2 in ganador and u3 in ganador) and not(u1 == g1\n",
        "      and u2 == g2 and u3 == g3) and (u1 != u2 and u1 != u3 and u2 != u3)\n",
        "    ):\n",
        "      print('Ganaste el segundo premio')\n",
        "  else:\n",
        "    aciertos = 0\n",
        "\n",
        "    if u1 == g1 or u2 == g2 or u3 == g3:\n",
        "      aciertos += 1\n",
        "\n",
        "    if ((u2 == g1 or u2 == g2 or u2 == g3) and (u2 != u1 or ganador.count(u2))):\n",
        "      aciertos += 1\n",
        "    if ((u3 == g1 or u3 == g2 or u3 == g3) and (u3 != u1 and\n",
        "       u3 != u2 or (ganador.count(u3) > usuario.count(u3)))):\n",
        "      aciertos += 1\n",
        "    if aciertos == 2:\n",
        "      print('Ganaste el tercer premio')\n",
        "    elif aciertos == 1:\n",
        "      print('Ganaste el premio de consolación')\n",
        "    else:\n",
        "      print('Perdio la plata')"
      ],
      "metadata": {
        "colab": {
          "base_uri": "https://localhost:8080/"
        },
        "id": "kWyjJscGoAhZ",
        "outputId": "5e7bb3e4-aa25-4005-a1c7-4a4a1820ab9b"
      },
      "execution_count": 15,
      "outputs": [
        {
          "output_type": "stream",
          "name": "stdout",
          "text": [
            "Ingresa un número de tres digitos456\n",
            "Perdio la plata\n"
          ]
        }
      ]
    },
    {
      "cell_type": "markdown",
      "source": [
        "# Ejercicio\n",
        "\n",
        "Escriba un programa que reciba cualquier numero ENTERO `x` entre -100 y 100:\n",
        "\n",
        "1. Imprima x en la pantalla\n",
        "2. Imprima `... es un numero natural` si x es un numero mayor que cero. De lo contratio, simplemente imprima x como en x = -10:\n",
        "\n",
        "### Ejemplo de salida\n",
        "\n",
        "```txt\n",
        "Enter integer:\n",
        "x = 50\n",
        "50 is a natural number\n",
        "```\n",
        "\n",
        "or\n",
        "\n",
        "```txt\n",
        "Enter integer:\n",
        "x = -10\n",
        "```\n",
        "\n"
      ],
      "metadata": {
        "id": "REvBA4uctPvA"
      }
    },
    {
      "cell_type": "code",
      "source": [
        "x = int(input('Ingrese un numero entre -100 y 100: '));\n",
        "\n",
        "if x > 0 :\n",
        "  print(\"Enter integer: \", x)\n",
        "  print(\"x =\", x)\n",
        "  print(x, \"is a natural number\");\n",
        "else:\n",
        "  print(\"Enter integer: \", x)\n",
        "  print(\"x =\", x)"
      ],
      "metadata": {
        "colab": {
          "base_uri": "https://localhost:8080/"
        },
        "id": "79TjQCujwf3g",
        "outputId": "751a8fed-af21-46d9-bd2e-ab3f8df61681"
      },
      "execution_count": 24,
      "outputs": [
        {
          "output_type": "stream",
          "name": "stdout",
          "text": [
            "Ingrese un numero entre -100 y 100: -10\n",
            "Enter integer:  -10\n",
            "x = -10\n"
          ]
        }
      ]
    },
    {
      "cell_type": "code",
      "source": [
        "print(\"Enter integer: 50\")\n",
        "print(\"x = 50\")\n",
        "print(\"50 is a natural number\")\n",
        "print(\"Enter integer: -10\")\n",
        "print(\"x = -10\")\n"
      ],
      "metadata": {
        "colab": {
          "base_uri": "https://localhost:8080/"
        },
        "id": "ViRHA01jw29y",
        "outputId": "a4adec24-fdea-4936-ec0e-86dc8fb367db"
      },
      "execution_count": 19,
      "outputs": [
        {
          "output_type": "stream",
          "name": "stdout",
          "text": [
            "Enter integer: 50\n",
            "x = 50\n",
            "50 is a natural number\n",
            "Enter integer: -10\n",
            "x = -10\n"
          ]
        }
      ]
    }
  ],
  "metadata": {
    "colab": {
      "provenance": [],
      "include_colab_link": true
    },
    "kernelspec": {
      "display_name": "Python 3",
      "name": "python3"
    }
  },
  "nbformat": 4,
  "nbformat_minor": 0
}
