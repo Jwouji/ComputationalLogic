{
  "cells": [
    {
      "cell_type": "markdown",
      "metadata": {
        "id": "view-in-github",
        "colab_type": "text"
      },
      "source": [
        "<a href=\"https://colab.research.google.com/github/Jwouji/ComputationalLogic/blob/main/Clase%203%20Logica%20computacional.ipynb\" target=\"_parent\"><img src=\"https://colab.research.google.com/assets/colab-badge.svg\" alt=\"Open In Colab\"/></a>"
      ]
    },
    {
      "cell_type": "markdown",
      "source": [
        "#Ejercicio 1\n",
        "\n",
        "Use la función int para retomar el numero 100 sumando el caracter \"50\" al numero 50. Adicionalmente, use la funcion\n",
        "str para retomar el resultado de la adicion \"5050\"\n"
      ],
      "metadata": {
        "id": "eJ8p4qhu64R2"
      }
    },
    {
      "cell_type": "code",
      "source": [
        "a = 50;\n",
        "b = '50';\n",
        "print(a + int(b));\n",
        "print(str(a) + b);"
      ],
      "metadata": {
        "id": "esyprgkk7FpH",
        "colab": {
          "base_uri": "https://localhost:8080/"
        },
        "outputId": "037f3a3d-3cd7-4ca3-c720-5be457e61179"
      },
      "execution_count": 8,
      "outputs": [
        {
          "output_type": "stream",
          "name": "stdout",
          "text": [
            "100\n",
            "5050\n"
          ]
        }
      ]
    },
    {
      "cell_type": "markdown",
      "source": [
        "# Ejercicio 2\n",
        "\n",
        "se proveen una letra \"1\" y tres \"0\".Use estas para construir el numero 100.Aqui solo se permiten operaciones de adicion entre strings, y la funcion int() puede ser usada solo una vez"
      ],
      "metadata": {
        "id": "0JyWsNAc9Tz3"
      }
    },
    {
      "cell_type": "code",
      "source": [
        "arr = [\"1\", \"0\", \"0\", \"0\"];\n",
        "result = \"\".join(arr);\n",
        "print(result);"
      ],
      "metadata": {
        "colab": {
          "base_uri": "https://localhost:8080/"
        },
        "id": "ObHSYp_P9_zl",
        "outputId": "76449e42-a04e-4f51-a917-4f3abce6265f"
      },
      "execution_count": 10,
      "outputs": [
        {
          "output_type": "stream",
          "name": "stdout",
          "text": [
            "1000\n"
          ]
        }
      ]
    },
    {
      "cell_type": "markdown",
      "source": [
        "# Funciones y Recursión"
      ],
      "metadata": {
        "id": "yIW_PkyO_N_d"
      }
    },
    {
      "cell_type": "code",
      "source": [
        "n1 = 5\n",
        "n2 = 10\n",
        "\n",
        "def factorial(number):\n",
        "  if number < 0:\n",
        "    return \"No hay factorial de negativos\"\n",
        "  elif number == 0:\n",
        "    return 1\n",
        "  else:\n",
        "    fact = 1\n",
        "    while (number > 1):\n",
        "      fact *= number\n",
        "      number -= 1\n",
        "    return fact\n",
        "\n",
        "print(factorial(n1))\n",
        "print(factorial(n2))\n"
      ],
      "metadata": {
        "colab": {
          "base_uri": "https://localhost:8080/"
        },
        "id": "G_VLGS4K_YWV",
        "outputId": "45882b27-b0e5-4080-bd17-a3c705857770"
      },
      "execution_count": 17,
      "outputs": [
        {
          "output_type": "stream",
          "name": "stdout",
          "text": [
            "120\n",
            "3628800\n"
          ]
        }
      ]
    },
    {
      "cell_type": "code",
      "source": [
        "n = int(input(\"Ingrese un numero: \"))\n",
        "print(factorial(n))\n",
        "def simple_factorial(n):\n",
        "  aux = n\n",
        "  for i in range(n-1, 0, -1):\n",
        "    aux *= i\n",
        "  return aux\n"
      ],
      "metadata": {
        "colab": {
          "base_uri": "https://localhost:8080/"
        },
        "id": "QP-vED-JDAZf",
        "outputId": "e011d010-5a2f-4b82-e50a-a34c4bf008ca"
      },
      "execution_count": 23,
      "outputs": [
        {
          "output_type": "stream",
          "name": "stdout",
          "text": [
            "Ingrese un numero: 4\n",
            "24\n"
          ]
        }
      ]
    },
    {
      "cell_type": "code",
      "source": [
        "number = int(input(\"Ingrese un numero: \"))\n",
        "def factorial_recursion(number):\n",
        "  if number == 0:\n",
        "    return 1\n",
        "  else:\n",
        "    return number * factorial_recursion(number - 1)\n",
        "print(factorial_recursion(number));"
      ],
      "metadata": {
        "colab": {
          "base_uri": "https://localhost:8080/"
        },
        "id": "eZtBgjqtEZq3",
        "outputId": "21f8c5c6-429e-4339-cdbf-aab562c0df31"
      },
      "execution_count": 27,
      "outputs": [
        {
          "output_type": "stream",
          "name": "stdout",
          "text": [
            "Ingrese un numero: 4\n",
            "24\n"
          ]
        }
      ]
    },
    {
      "cell_type": "code",
      "source": [
        "n1 = int(input(\"Ingrese un numero: \"))\n",
        "n2 = int(input(\"Ingrese un numero: \"))\n",
        "\n",
        "import math\n",
        "print(math.factorial(n1));\n",
        "print(math.factorial(n2));"
      ],
      "metadata": {
        "colab": {
          "base_uri": "https://localhost:8080/"
        },
        "id": "jorn7QFPFeLO",
        "outputId": "c731fe84-e16c-48e0-87bf-c8695c2ed3f7"
      },
      "execution_count": 29,
      "outputs": [
        {
          "output_type": "stream",
          "name": "stdout",
          "text": [
            "Ingrese un numero: 3\n",
            "Ingrese un numero: 6\n",
            "6\n",
            "720\n"
          ]
        }
      ]
    },
    {
      "cell_type": "markdown",
      "source": [
        "# Ejercicio 3\n",
        "\n",
        "El teorema de pitagoras afirma que el cuadrado de la hipotenusa c para cualquier triangulo rectangulo es igual al cuadrado de la base a mas el cuadrado de la altura b, escriba un codigo que calcule el largo de la hipotenusa recibiendo la base y la altura como entero"
      ],
      "metadata": {
        "id": "A1VUJe72Gl4_"
      }
    },
    {
      "cell_type": "code",
      "source": [
        "a = int(input(\" Ingrese la base: \"));\n",
        "b = int(input(\" Ingrese la altura: \"));\n",
        "c = int((a**2 + b**2)**0.5);\n",
        "\n",
        "print(\"La hipotenusa es: \", c);"
      ],
      "metadata": {
        "colab": {
          "base_uri": "https://localhost:8080/"
        },
        "id": "EKAW_eGIG9Jt",
        "outputId": "13a9e978-f6f2-43e4-b393-b1315eaf6ea8"
      },
      "execution_count": 38,
      "outputs": [
        {
          "output_type": "stream",
          "name": "stdout",
          "text": [
            " Ingrese la base: 3\n",
            " Ingrese la altura: 4\n",
            "La hipotenusa es:  5\n"
          ]
        }
      ]
    },
    {
      "cell_type": "markdown",
      "source": [
        "#Ejercicio 4\n",
        "\n",
        "Escribe un programa que muestre los valores cuadrados de 2 a 6 en una tabla como la que se mostro anteriormente, en este caso la variable a se puede incrementar de 2 a 6, y n tiene el valor de 2. Ingrese el valor actuarl para la parte correrspondiente de a**n, de tal forma que el resultado de salida de la ecuación sea 2**2.\n",
        "\n",
        "|a|n|a**n|\n",
        "|--|--|--|\n",
        "|2|2|4|\n",
        "|3|2|9|\n",
        "|4|2|16|\n",
        "|5|2|25|\n",
        "|6|2|36|"
      ],
      "metadata": {
        "id": "9q-_vDNiKLE_"
      }
    },
    {
      "cell_type": "code",
      "source": [
        "a_values = [2, 3, 4, 5, 6]\n",
        "n = 2\n",
        "\n",
        "for a in a_values:\n",
        "    result = a ** n\n",
        "    print(f\"{a}\\t{n}\\t{result}\")"
      ],
      "metadata": {
        "colab": {
          "base_uri": "https://localhost:8080/"
        },
        "id": "98iW4-HfLV9X",
        "outputId": "592a5114-4066-437c-c2fe-e6acafb96844"
      },
      "execution_count": 39,
      "outputs": [
        {
          "output_type": "stream",
          "name": "stdout",
          "text": [
            "2\t2\t4\n",
            "3\t2\t9\n",
            "4\t2\t16\n",
            "5\t2\t25\n",
            "6\t2\t36\n"
          ]
        }
      ]
    },
    {
      "cell_type": "code",
      "source": [
        "age = int(input(\"ingrese su edad: \"));\n",
        "\n",
        "if age % 2 == 0:\n",
        "  print(\"Su edad es par\");\n",
        "else:\n",
        "  print(\"Su edad es impar\");"
      ],
      "metadata": {
        "colab": {
          "base_uri": "https://localhost:8080/"
        },
        "id": "73polEq3P6cC",
        "outputId": "58d11a44-70a3-460b-e802-c8165711dbd5"
      },
      "execution_count": 42,
      "outputs": [
        {
          "output_type": "stream",
          "name": "stdout",
          "text": [
            "ingrese su edad: 2\n",
            "Su edad es par\n"
          ]
        }
      ]
    },
    {
      "cell_type": "code",
      "source": [
        "age = int(input(\"ingrese su edad: \"))\n",
        "print(\"par\" if age % 2 == 0  else \"impar\")"
      ],
      "metadata": {
        "id": "pZa0ZslXRlIk"
      },
      "execution_count": null,
      "outputs": []
    },
    {
      "cell_type": "markdown",
      "source": [
        "# Ejercicio 5\n",
        "recibir un numero entero de 3 digitos del usuario si el centesimo digito del entero n es 3 entonces devuelve el bloque si no devuelve un false"
      ],
      "metadata": {
        "id": "tOiwULiLTNRC"
      }
    },
    {
      "cell_type": "code",
      "source": [
        "n = int(input(\"n: \"));\n",
        "\n",
        "if(n // 100) == 3:\n",
        "  print(True);\n",
        "else:\n",
        "  print(False);"
      ],
      "metadata": {
        "colab": {
          "base_uri": "https://localhost:8080/"
        },
        "id": "JmZh_V4dTXBh",
        "outputId": "41497226-0883-46b0-b089-d7f29eea220e"
      },
      "execution_count": 47,
      "outputs": [
        {
          "output_type": "stream",
          "name": "stdout",
          "text": [
            "n: 330\n",
            "True\n"
          ]
        }
      ]
    },
    {
      "cell_type": "markdown",
      "source": [
        "# Ejercicio 6\n",
        "\n",
        "Recibe un entero. Si el número entero es multiplo de 5, devuelve True, si no, devuelve False"
      ],
      "metadata": {
        "id": "_XB_r0JaVMYk"
      }
    },
    {
      "cell_type": "code",
      "source": [
        "n = int(input(\"Ingrese un numero: \"));\n",
        "\n",
        "if (n % 5) == 0:\n",
        "  print(True);\n",
        "else:\n",
        "  print(False);"
      ],
      "metadata": {
        "colab": {
          "base_uri": "https://localhost:8080/"
        },
        "id": "SWE1SMoZVbiY",
        "outputId": "84d8014a-8e91-4def-b2d4-51c8c1d41872"
      },
      "execution_count": 62,
      "outputs": [
        {
          "output_type": "stream",
          "name": "stdout",
          "text": [
            "Ingrese un numero: 49\n",
            "False\n"
          ]
        }
      ]
    },
    {
      "cell_type": "markdown",
      "source": [
        "# Ejercicio 7\n",
        "\n",
        "Reciba una letra alfabetica del ususario e imprima \"is a vocal\" para las vocales o \"is a consonant\" para cualquier otra letra. en caso de que no sea ninguna de las dos condiciones imprima \"is not an alphabet\""
      ],
      "metadata": {
        "id": "FeHq9ivbXgiA"
      }
    },
    {
      "cell_type": "code",
      "source": [
        "user = input(\"ingrese un caracter: \");\n",
        "\n",
        "if user in [ \"a\", \"e\", \"i\", \"o\", \"u\"]:\n",
        "  print(\"is a vocal\");\n",
        "elif user in [ \"b\", \"c\", \"d\"]:\n",
        "  print(\"is a consonant\");\n",
        "else:\n",
        "  print(\"is not an alphabet\");\n"
      ],
      "metadata": {
        "colab": {
          "base_uri": "https://localhost:8080/"
        },
        "id": "TFyULYPYXT69",
        "outputId": "3c960517-eeba-4dde-986e-6f682236812c"
      },
      "execution_count": 68,
      "outputs": [
        {
          "output_type": "stream",
          "name": "stdout",
          "text": [
            "ingrese un caracter: a\n",
            "is a vocal\n"
          ]
        }
      ]
    }
  ],
  "metadata": {
    "colab": {
      "toc_visible": true,
      "provenance": [],
      "include_colab_link": true
    },
    "kernelspec": {
      "display_name": "Python 3",
      "name": "python3"
    }
  },
  "nbformat": 4,
  "nbformat_minor": 0
}