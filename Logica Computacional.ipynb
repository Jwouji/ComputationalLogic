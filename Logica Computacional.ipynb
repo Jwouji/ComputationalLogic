{
  "cells": [
    {
      "cell_type": "markdown",
      "metadata": {
        "id": "view-in-github",
        "colab_type": "text"
      },
      "source": [
        "<a href=\"https://colab.research.google.com/github/Jwouji/ComputationalLogic/blob/main/Logica%20Computacional.ipynb\" target=\"_parent\"><img src=\"https://colab.research.google.com/assets/colab-badge.svg\" alt=\"Open In Colab\"/></a>"
      ]
    },
    {
      "cell_type": "markdown",
      "metadata": {
        "id": "hhwXYwj59S4n"
      },
      "source": [
        "# Estructura While"
      ]
    },
    {
      "cell_type": "code",
      "execution_count": null,
      "metadata": {
        "colab": {
          "background_save": true
        },
        "id": "Jbwhd7f99NQL"
      },
      "outputs": [],
      "source": [
        "counter = 2\n",
        "while True:\n",
        "  counter += counter\n",
        "  print(f\"{counter}: \\U0001F921 - \\U0001F47D - \\U0001F622\")"
      ]
    },
    {
      "cell_type": "markdown",
      "source": [
        "## Ejercicio\n",
        "\n",
        "Desarrolle un programa de pedido de menú para Yummy Restaurant. Muestre el siguiente menu al usuario y permita que el usuario seleccione uno. Si el alfabeto de entrada dado no está en el menú, imprima \"Ingrese al menu de nuevo\"\n",
        "y reciba otra entrada.\n",
        "\n",
        "Ejemplo de salida:\n",
        "\n",
        "```txt\n",
        "Welcome to Yummy Restaurant. Here is the menu:\n",
        "menu:\n",
        "- Burger (enter b)\n",
        "- Chicken (enter c)\n",
        "- Pizza (enter p)\n",
        "-Choose a menu( enter b, c, p): p\n",
        "You choose pizza\n",
        "```\n"
      ],
      "metadata": {
        "id": "tkLGSfo6CHUG"
      }
    },
    {
      "cell_type": "code",
      "source": [
        "menu = input(\"Welcome to Yummy Restaurant. Here is the menu:\\n\\nMenu:\\n- Burger (enter b)\\n- Chicken (enter c)\\n- Pizza (enter p)\\n-Choose a menu( enter b, c, p): \")\n",
        "\n",
        "while menu != \"b\" and menu != \"c\" and menu != \"p\":\n",
        "  menu = input(\"Ingrese al menu de nuevo: \");\n",
        "\n",
        "if menu == \"b\":\n",
        "  print(\"You choose burger\");\n",
        "elif menu == \"c\":\n",
        "  print(\"You choose chicken\");\n",
        "elif menu == \"p\":\n",
        "  print(\"You choose pizza\");"
      ],
      "metadata": {
        "colab": {
          "base_uri": "https://localhost:8080/"
        },
        "id": "Vm-dvimzDkSW",
        "outputId": "7ad3ce7c-5fc4-4aa8-9c5f-2545eaf69c15"
      },
      "execution_count": 24,
      "outputs": [
        {
          "output_type": "stream",
          "name": "stdout",
          "text": [
            "Welcome to Yummy Restaurant. Here is the menu:\n",
            "\n",
            "Menu:\n",
            "- Burger (enter b)\n",
            "- Chicken (enter c)\n",
            "- Pizza (enter p)\n",
            "-Choose a menu( enter b, c, p): m\n",
            "Ingrese al menu de nuevo: m\n",
            "Ingrese al menu de nuevo: p\n",
            "You choose pizza\n"
          ]
        }
      ]
    },
    {
      "cell_type": "markdown",
      "source": [
        "## Ejercicio 2\n",
        "\n",
        "Escriba un programa que ejecute sumas, restas, multiplicaciones, divisones, potencias y raices, y si es un numero primo. Imprime el resultado de la operación de dos numeros enteros positivos, en funcion del numero de operacion deseado. Si se ingresa un numero diferente a 1 2 3 4 5 o 6, imprime 'se ingreso un numero correcto'. Para ingresar dos numeros, escriba uno, presione enter y escriba el otro\n",
        "\n",
        "```txt\n",
        "Calculadora:\n",
        "1. sumar\n",
        "2. restar\n",
        "3. multiplicar\n",
        "4. dividir\n",
        "5. potenciar\n",
        "6. primos\n",
        "\n",
        "ingrese el numero de operación: 3\n",
        "n1: 3\n",
        "n2: 37\n",
        "\n",
        "Ambos son primos\n",
        "\n",
        "¿Desea repetir el menú? (1 para si, 2 para no): 2\n",
        "\n",
        "Adios\n",
        "```"
      ],
      "metadata": {
        "id": "EzVgYBFYL4IO"
      }
    },
    {
      "cell_type": "code",
      "source": [
        "def menu():\n",
        "  print(\"\\nCalculadora:\")\n",
        "  print(\"1. sumar\")\n",
        "  print(\"2. restar\");\n",
        "  print(\"3. multiplicar\");\n",
        "  print(\"4. dividir\");\n",
        "  print(\"5. potenciar\");\n",
        "  print(\"6. primos\");\n",
        "\n",
        "cal = [ 1, 2, 3, 4, 5, 6];\n",
        "repetir = 1;\n",
        "\n",
        "while repetir == 1:\n",
        "  menu()\n",
        "\n",
        "\n",
        "  operacion = int(input(\"\\ningrese el numero de operación: \"));\n",
        "\n",
        "  if operacion == cal[0]:\n",
        "    n1 = int(input(\"\\ninserte primer numero: \"));\n",
        "    n2 = int(input(\"inserte segundo numero: \"));\n",
        "    print(f'{n1} + {n2} = {n1 + n2}');\n",
        "\n",
        "  elif operacion == cal[1]:\n",
        "    n1 = int(input(\"\\ninserte primer numero: \"));\n",
        "    n2 = int(input(\"inserte segundo numero: \"));\n",
        "    print(f'{n1} - {n2} = {n1 - n2}');\n",
        "\n",
        "  elif operacion == cal[2]:\n",
        "    n1 = int(input(\"\\ninserte primer numero: \"));\n",
        "    n2 = int(input(\"inserte segundo numero: \"));\n",
        "    print(f'{n1} * {n2} = {n1 * n2}');\n",
        "\n",
        "  elif operacion == cal[3]:\n",
        "    n1 = int(input(\"\\ninserte primer numero: \"));\n",
        "    n2 = int(input(\"inserte segundo numero: \"));\n",
        "    try:\n",
        "      print(f'{n1} / {n2} = {n1 / n2}');\n",
        "    except ZeroDivisionError:\n",
        "      print(\"No se puede dividir entre 0\\n\");\n",
        "\n",
        "  elif operacion == cal[4]:\n",
        "    n1 = int(input(\"\\ninserte primer numero: \"));\n",
        "    n2 = int(input(\"inserte segundo numero: \"));\n",
        "    print(f'{n1} ** {n2} = {n1 ** n2}');\n",
        "\n",
        "\n",
        "  elif operacion == cal[5]:\n",
        "    n1 = int(input(\"\\ninserte primer numero: \"));\n",
        "    n2 = int(input(\"inserte segundo numero: \"));\n",
        "\n",
        "    def primo(n1):\n",
        "      if n1 <= 1:\n",
        "        return False\n",
        "      if n1 == 2 or n1 == 3:\n",
        "        return True\n",
        "      if n1 % 2 == 0:\n",
        "        return False\n",
        "      for i in range(3, n1):\n",
        "        if n1 % i == 0:\n",
        "          return False\n",
        "      return True\n",
        "\n",
        "    def primo(n2):\n",
        "      if n2 <= 1:\n",
        "        return False\n",
        "      if n2 == 2 or n2 == 3:\n",
        "        return True\n",
        "      if n2 % 2 == 0:\n",
        "        return False\n",
        "      for i in range(3, n2):\n",
        "        if n2 % i == 0:\n",
        "          return False\n",
        "        return True\n",
        "\n",
        "    if primo(n1) and primo(n2):\n",
        "      print(f'{n1} y {n2} son primos');\n",
        "    elif primo(n1) or primo(n2):\n",
        "      print('Uno de los numeros es primo');\n",
        "    else:\n",
        "      print('Ninguno de los numeros es primo');\n",
        "\n",
        "  repetir = int(input(\"¿Desea repetir el menú? (1 para si, 2 para no): \"));\n",
        "\n",
        "  if repetir == 2:\n",
        "    print(\"\\n Adios\");\n",
        "\n",
        "\n",
        "\n"
      ],
      "metadata": {
        "colab": {
          "base_uri": "https://localhost:8080/"
        },
        "id": "jE6j2SbUOO3F",
        "outputId": "808d5ca0-e7ec-4927-d9a7-18cda9f5c3ed"
      },
      "execution_count": 16,
      "outputs": [
        {
          "output_type": "stream",
          "name": "stdout",
          "text": [
            "\n",
            "Calculadora:\n",
            "1. sumar\n",
            "2. restar\n",
            "3. multiplicar\n",
            "4. dividir\n",
            "5. potenciar\n",
            "6. primos\n",
            "\n",
            "ingrese el numero de operación: 4\n",
            "\n",
            "inserte primer numero: 4\n",
            "inserte segundo numero: 0\n",
            "No se puede dividir entre 0\n",
            "\n",
            "¿Desea repetir el menú? (1 para si, 2 para no): 1\n",
            "\n",
            "Calculadora:\n",
            "1. sumar\n",
            "2. restar\n",
            "3. multiplicar\n",
            "4. dividir\n",
            "5. potenciar\n",
            "6. primos\n",
            "\n",
            "ingrese el numero de operación: 6\n",
            "\n",
            "inserte primer numero: 2\n",
            "inserte segundo numero: 3\n",
            "2 y 3 son primos\n",
            "¿Desea repetir el menú? (1 para si, 2 para no): 2\n",
            "\n",
            " Adios\n"
          ]
        }
      ]
    }
  ],
  "metadata": {
    "colab": {
      "provenance": [],
      "authorship_tag": "ABX9TyPBZIf5krbJg0TNnkEbyqp3",
      "include_colab_link": true
    },
    "kernelspec": {
      "display_name": "Python 3",
      "name": "python3"
    },
    "language_info": {
      "name": "python"
    }
  },
  "nbformat": 4,
  "nbformat_minor": 0
}